{
 "cells": [
  {
   "cell_type": "markdown",
   "id": "36212bca",
   "metadata": {
    "slideshow": {
     "slide_type": "slide"
    }
   },
   "source": [
    "# Graph laplacian and spectral clustering"
   ]
  },
  {
   "cell_type": "markdown",
   "id": "695b028d",
   "metadata": {
    "slideshow": {
     "slide_type": "slide"
    }
   },
   "source": [
    "## From data to graphs "
   ]
  },
  {
   "cell_type": "markdown",
   "id": "1bc17376",
   "metadata": {
    "slideshow": {
     "slide_type": "subslide"
    }
   },
   "source": [
    "### Encoding information as a graph\n",
    "\n",
    "![Local graph](data/how_umap_works_umap_graph.png)"
   ]
  },
  {
   "cell_type": "markdown",
   "id": "170018bd",
   "metadata": {
    "slideshow": {
     "slide_type": "subslide"
    }
   },
   "source": [
    "### How to generate such graph?\n",
    "\n",
    "Let $x_1, \\dots, x_n$ be a set of points in $\\mathbb{R}^n$ and $s_{ij}$ the pairwise similarities. \n",
    "\n",
    "- $\\epsilon$-neighborhood graph \n",
    "- $k$-nearestneighbor graph\n",
    "- Fully connected graph"
   ]
  },
  {
   "cell_type": "markdown",
   "id": "86dc1aa7",
   "metadata": {
    "slideshow": {
     "slide_type": "slide"
    }
   },
   "source": [
    "## Definition and properties of graph laplacians"
   ]
  },
  {
   "cell_type": "markdown",
   "id": "8cb48ba6",
   "metadata": {
    "slideshow": {
     "slide_type": "subslide"
    }
   },
   "source": [
    "### Remembering: laplacian and harmonics\n",
    "\n",
    "**Definition**: The i-th harmonic space of $X$ is $\\mathcal{H}_i(X) = \\ker \\Delta_i$, where $\\Delta_i$ is the laplacian at i-th dimension.\n",
    "\n",
    "**Theorem** (Hodge decomposition theorem): \n",
    "1. $\\mathcal{H}_i(X) = \\ker \\partial_i \\cap \\ker \\partial_{i+1}^{t}$\n",
    "2. The following function is a isomorphism: $\\pi_i : \\mathcal{H}_i(X) \\to H_i(X)$, $h \\mapsto [h]$, where \n",
    "$H_i(X)$ is the i-th simplicial homology.\n"
   ]
  },
  {
   "cell_type": "markdown",
   "id": "a10072c6",
   "metadata": {
    "slideshow": {
     "slide_type": "subslide"
    }
   },
   "source": [
    "### Unnormalized graph Laplacian\n",
    "\n",
    "Let $(V,E)$ be a graph, where $V$ is the set of vertices and $E$ the set of edges. Then, $\\mathbf{D}$ is the\n",
    "degree matrix and $\\mathbf{W}$ the weight matrix, corresponding to weights between edges. The unnormalized\n",
    "graph laplacian is then given by: \n",
    "\n",
    "$$\n",
    "L = D- W\n",
    "$$"
   ]
  },
  {
   "cell_type": "markdown",
   "id": "940d6592",
   "metadata": {
    "slideshow": {
     "slide_type": "subslide"
    }
   },
   "source": [
    "### Some properties (1/2)\n",
    "\n",
    "Let $L$ be the laplacian matrix for some graph G, then\n",
    "\n",
    "1. For every vector $v \\in \\mathbb{R}^n$, we have \n",
    "$$\n",
    "v'Lv = \\frac{1}{2} \\sum\\limits_{i,j=1}^{n} w_{ij} (v_i - v_j)^2\n",
    "$$\n",
    "2. L is symmetric and positive semi-definite\n",
    "3. The smallest eigenvalue of L is 0, the corresponding eigenvector is the constant one vector $\\mathbb{1}$\n",
    "4. L has n non-negative, real-valued eigenvalues 0 = $\\lambda_1 \\leq \\dots \\leq \\lambda_n$. "
   ]
  },
  {
   "cell_type": "markdown",
   "id": "d7f0a5ae",
   "metadata": {
    "slideshow": {
     "slide_type": "subslide"
    }
   },
   "source": [
    "### Some properties (2/2)\n",
    "\n",
    "> Let G be an undirected graph with non-negative weights. Then the multiplicity k of the eigenvalues 0 of L \n",
    "> corresponds to the number of connected components $A_1, \\dots, A_k$ in the graph. Moreover, the eigenspace \n",
    "> of eigenvalue 0 is spanned by the indicator vectors $\\mathbb{1}_{A_1}, \\dots, \\mathbb{1}_{A_k}$. \n"
   ]
  },
  {
   "cell_type": "markdown",
   "id": "71547e40",
   "metadata": {
    "slideshow": {
     "slide_type": "subslide"
    }
   },
   "source": [
    "### Some properties (2/2)\n",
    "\n",
    "![](data/harmonic_cycles.png)"
   ]
  },
  {
   "cell_type": "markdown",
   "id": "24f3d924",
   "metadata": {
    "slideshow": {
     "slide_type": "subslide"
    }
   },
   "source": [
    "### Normalized graph Laplacian\n",
    "\n",
    "Other ways to encode graph information: \n",
    "\n",
    "$$\n",
    "\\begin{align*}\n",
    "L_{sym} & := D^{-1/2}LD^{-1/2} = I - D^{-1/2}WD^{-1/2} \\\\\n",
    "L_{rw} & := D^{-1}L = I - D^{-1}W\n",
    "\\end{align*}\n",
    "$$"
   ]
  },
  {
   "cell_type": "markdown",
   "id": "21be6a8c",
   "metadata": {
    "slideshow": {
     "slide_type": "slide"
    }
   },
   "source": [
    "## Spectral clustering algorithm"
   ]
  },
  {
   "cell_type": "markdown",
   "id": "c9232699",
   "metadata": {
    "slideshow": {
     "slide_type": "subslide"
    }
   },
   "source": [
    "### Calculating the connected components\n",
    "\n",
    "Let $x_1, \\dots, x_n$ be a set of points in $\\mathbb{R}^n$ and $s_{ij}$ the pairwise similarities. \n",
    "$S$ denotes the matrix with entries $s_{ij}$."
   ]
  },
  {
   "cell_type": "markdown",
   "id": "60170370",
   "metadata": {
    "slideshow": {
     "slide_type": "subslide"
    }
   },
   "source": [
    "### Calculating the connected components\n",
    "\n",
    "> *Input*: Similarity matrix $S \\in \\mathbb{R}^{n \\times n}$, integer $k$ of clusters.\n",
    "> 1. Construct similarity graph. Let $W$ be its weighted adjacency matrix\n",
    "> 2. Compute Laplacian L\n",
    "> 3. Compute the first k eigenvectors $u_1, \\dots, u_k$ of L.\n",
    "> 4. Let $U \\in \\mathbb{R}^{n\\times k}$ be the matrix containing the first k eigenvectors as columns\n",
    "> 5. For $i = 1, \\dots, n$, denote $y_i$ as the vector corresponding to the i-th row of U.\n",
    "> 6. Apply k-means to $\\{y_1, \\dots, y_n\\}$ into clusters $C_1, \\dots, C_k$.\n",
    "> *Output*: Clusters $A_1, \\dots, A_k$ with $A_i = \\{j | y_j \\in C_i \\}$.\n"
   ]
  },
  {
   "cell_type": "code",
   "execution_count": 3,
   "id": "32d72aec",
   "metadata": {
    "slideshow": {
     "slide_type": "subslide"
    }
   },
   "outputs": [],
   "source": [
    "import numpy as np\n",
    "import matplotlib.pyplot as plt\n",
    "\n",
    "from sklearn import datasets, mixture\n",
    "\n",
    "import sys\n",
    "sys.path.insert(0, './scripts')\n",
    "from calc_spectral_clust import calc_spectral_clust"
   ]
  },
  {
   "cell_type": "code",
   "execution_count": 4,
   "id": "c1a3c355",
   "metadata": {
    "slideshow": {
     "slide_type": "subslide"
    }
   },
   "outputs": [],
   "source": [
    "# generate datasets\n",
    "n_samples = 500\n",
    "noisy_circles = datasets.make_circles(n_samples=n_samples, \n",
    "                                      factor=.5,\n",
    "                                      noise=.05)\n",
    "noisy_moons = datasets.make_moons(n_samples=n_samples, noise=.05)\n",
    "blobs = datasets.make_blobs(n_samples=n_samples, random_state=8)\n",
    "no_structure = np.random.rand(n_samples, 2), None\n",
    "\n",
    "# Anisotropicly distributed data\n",
    "random_state = 170\n",
    "X, y = datasets.make_blobs(n_samples=n_samples, random_state=random_state)\n",
    "transformation = [[0.6, -0.6], [-0.4, 0.8]]\n",
    "X_aniso = np.dot(X, transformation)\n",
    "aniso = (X_aniso, y)\n",
    "\n",
    "# blobs with varied variances\n",
    "varied = datasets.make_blobs(n_samples=n_samples,\n",
    "                             cluster_std=[1.0, 2.5, 0.5],\n",
    "                             random_state=random_state)"
   ]
  },
  {
   "cell_type": "code",
   "execution_count": 5,
   "id": "81bf6a1d",
   "metadata": {
    "slideshow": {
     "slide_type": "subslide"
    }
   },
   "outputs": [
    {
     "data": {
      "image/png": "[encoded data removed]",
      "text/plain": [
       "<Figure size 432x288 with 6 Axes>"
      ]
     },
     "metadata": {},
     "output_type": "display_data"
    }
   ],
   "source": [
    "# specify default parameters for the algorithm\n",
    "default_base = {\n",
    "    'n_neighbors': 2, \n",
    "    'n_clusters': 3, \n",
    "    'affinity': 'nearest_neighbors' # try nearest_neighbors or rbf\n",
    "}\n",
    "\n",
    "datasets = [\n",
    "    (noisy_circles, {'n_clusters': 2}),\n",
    "    (noisy_moons, {'n_clusters': 2}),\n",
    "    (varied, {'n_neighbors': 2}),\n",
    "    (aniso, {'n_neighbors': 2}),\n",
    "    (blobs, {}),\n",
    "    (no_structure, {})\n",
    "]\n",
    "\n",
    "calc_spectral_clust(datasets, default_base)"
   ]
  },
  {
   "cell_type": "markdown",
   "id": "6bf183e5",
   "metadata": {
    "slideshow": {
     "slide_type": "slide"
    }
   },
   "source": [
    "### Mincut problem"
   ]
  },
  {
   "cell_type": "markdown",
   "id": "02f19121",
   "metadata": {
    "slideshow": {
     "slide_type": "subslide"
    }
   },
   "source": [
    "#### Idea\n",
    "\n",
    "Find a partition of the graph such that it minimizes the weights between clusters and maximizes it \n",
    "within a group.\n",
    "\n",
    "Spectral clustering turns out to be as an approximation to such graph partitioning problems."
   ]
  },
  {
   "cell_type": "markdown",
   "id": "94460fc4",
   "metadata": {
    "slideshow": {
     "slide_type": "subslide"
    }
   },
   "source": [
    "> Given a graph with a adjacency matrix W, define\n",
    "> $$W(A,B) := \\sum_{i \\in A, j \\in B} w_{ij},$$\n",
    "> where $A$ and $B$ are subsets of the nodes from the graph. Then, for a given number \n",
    "> k of subsets, the mincut problem is finding the best partition $A_1, \\dots, A_k$, such that\n",
    "> it minimizes the following quantity:\n",
    "> $$ \\text{cut}(A_1, \\dots, A_k) := \\frac{1}{2}\\sum_{i=1}^{k} W(A_i, \\bar{A}_i),$$\n",
    "> where $\\bar{A}_i$ is the complement of $A_i$."
   ]
  },
  {
   "cell_type": "code",
   "execution_count": 63,
   "id": "d2b8f301",
   "metadata": {
    "slideshow": {
     "slide_type": "subslide"
    }
   },
   "outputs": [
    {
     "data": {
      "image/png": "[encoded data removed]",
      "text/plain": [
       "<Figure size 432x288 with 1 Axes>"
      ]
     },
     "metadata": {},
     "output_type": "display_data"
    }
   ],
   "source": [
    "import networkx as nx\n",
    "import pandas as pd \n",
    "\n",
    "df = pd.DataFrame({'Source' : [1, 1, 2, 4, 4, 4, 5, 7], \n",
    "                   'Target' : [2, 3, 3, 3, 5, 6, 6, 7]})\n",
    "G = nx.from_pandas_edgelist(df, source='Source', target='Target')\n",
    "\n",
    "nx.draw(G)"
   ]
  },
  {
   "cell_type": "markdown",
   "id": "22976536",
   "metadata": {
    "slideshow": {
     "slide_type": "subslide"
    }
   },
   "source": [
    "#### Large components\n",
    "\n",
    "We need to further constrain the cut objective function. There are two different ways: \n",
    "\n",
    "> $$ \\text{RatioCut} (A_1, \\dots, A_k) = \\frac{1}{2}\\sum_{i=1}^{k} \\frac{W(A_i, \\bar{A}_i)}{|A_i|} = \n",
    "\\sum_{i=1}^{k} \\frac{cut(A_i, \\bar{A}_i)}{|A_i|}$$\n",
    "\n",
    "or \n",
    "\n",
    ">  $$ \\text{Ncut} (A_1, \\dots, A_k) = \\frac{1}{2}\\sum_{i=1}^{k} \\frac{W(A_i, \\bar{A}_i)}{Vol(A_i)} = \n",
    "\\sum_{i=1}^{k} \\frac{cut(A_i, \\bar{A}_i)}{Vol(A_i)},$$\n",
    "\n",
    "where $|A_i|$ is the number of vertices in $A_i$ and $Vol(A_i)$ is the sum of the edge weights in $A_i$. "
   ]
  },
  {
   "cell_type": "markdown",
   "id": "6a05f2b3",
   "metadata": {
    "slideshow": {
     "slide_type": "subslide"
    }
   },
   "source": [
    "These problems have been show to be NP Hard, thus a relaxation is necessary. "
   ]
  },
  {
   "cell_type": "markdown",
   "id": "119e0fcb",
   "metadata": {
    "slideshow": {
     "slide_type": "slide"
    }
   },
   "source": [
    "### Mincut problem and spectral clustering"
   ]
  },
  {
   "cell_type": "markdown",
   "id": "b163fc26",
   "metadata": {
    "slideshow": {
     "slide_type": "subslide"
    }
   },
   "source": [
    "Let $k = 2$ and $V$ a set of vertices. The objective function now is:\n",
    "\n",
    "$$\n",
    "\\min_{A \\subset V} \\text{RatioCut}(A,\\bar{A})\n",
    "$$"
   ]
  },
  {
   "cell_type": "markdown",
   "id": "2f366bb9",
   "metadata": {
    "slideshow": {
     "slide_type": "subslide"
    }
   },
   "source": [
    "#### Rewriting the problem"
   ]
  },
  {
   "cell_type": "markdown",
   "id": "5f10e9dc",
   "metadata": {
    "slideshow": {
     "slide_type": "subslide"
    }
   },
   "source": [
    "Given a subset $A \\subset V$, define $v \\in \\mathbb{R}^n$ as\n",
    "\n",
    "$$\n",
    "v_i = \\left\\{\\begin{aligned}\n",
    "\\sqrt{|\\bar{A}|/|A|} & \\quad \\text{if } v_i \\in A \\\\\n",
    "\\sqrt{|A|/|\\bar{A}|} & \\quad \\text{if } v_i \\in \\bar{A}\n",
    "\\end{aligned} \n",
    "\\right.\n",
    "$$\n",
    "\n",
    "It can be shown that\n",
    "\n",
    "$$\n",
    "v'Lv = |V| \\cdot \\text{RatioCut}(A, \\bar{A})\n",
    "$$"
   ]
  },
  {
   "cell_type": "markdown",
   "id": "439eae39",
   "metadata": {
    "slideshow": {
     "slide_type": "subslide"
    }
   },
   "source": [
    "And note that $v \\perp \\mathbb{1}$, since\n",
    "\n",
    "$$\n",
    "\\sum_{i=1}^{n} v_i = \\sum_{i \\in A}\\sqrt{\\frac{|\\bar{A}|}{|A|}} - \\sum_{i \\in \\bar{A}}\\sqrt{\\frac{|A|}{|\\bar{A}|}} = 0 \n",
    "$$\n",
    "\n",
    "Also, \n",
    "\n",
    "$$\n",
    "||v||^2 = \\sum_{i = 1}^n v_i^2 = |A| \\frac{|\\bar{A}|}{|A|} + |\\bar{A}|\\frac{|A|}{|\\bar{A}|} = |\\bar{A}| + |A| = n\n",
    "$$"
   ]
  },
  {
   "cell_type": "markdown",
   "id": "9a5e10d8",
   "metadata": {
    "slideshow": {
     "slide_type": "subslide"
    }
   },
   "source": [
    "Summing up, the optimization problem is\n",
    "\n",
    "$$\n",
    "\\min_{A \\subset V} v'Lv \\text{ subject to } v \\perp \\mathbb{1}, ||v|| = \\sqrt{n},\n",
    "$$\n",
    "\n",
    "with $v$ defined as earlier (depending on $A$). \n",
    "\n",
    "This is NP hard, therefore we need to relax this optimization problem."
   ]
  },
  {
   "cell_type": "markdown",
   "id": "2a068cb5",
   "metadata": {
    "slideshow": {
     "slide_type": "subslide"
    }
   },
   "source": [
    "The relaxed version:\n",
    "\n",
    "$$\n",
    "\\min_{v \\in \\mathbb{R}^n} v'Lv \\text{ subject to } v \\perp \\mathbb{1}, ||v|| = \\sqrt{n},\n",
    "$$\n",
    "\n",
    "From Rayleigh-Ritz theorem, the solution to this problem corresponds to associated eigenvector of \n",
    "the second smallest eigenvalue. \n",
    "\n",
    "How to infer the clusters based on this vector? "
   ]
  },
  {
   "cell_type": "markdown",
   "id": "9650104d",
   "metadata": {
    "slideshow": {
     "slide_type": "subslide"
    }
   },
   "source": [
    "Using k-means to cluster the points in the real line, obtaining the clusters $C$ and $\\bar{C}$. Then,\n",
    "\n",
    "$$\n",
    "\\left\\{\\begin{aligned}\n",
    "x_i \\in A & \\quad \\text{if } v_i \\in C \\\\\n",
    "x_i \\in \\bar{A} & \\quad \\text{if } v_i \\in \\bar{C}\n",
    "\\end{aligned}\n",
    "\\right.\n",
    "$$"
   ]
  },
  {
   "cell_type": "code",
   "execution_count": 5,
   "id": "04242d71",
   "metadata": {
    "slideshow": {
     "slide_type": "skip"
    }
   },
   "outputs": [],
   "source": [
    "df = pd.DataFrame({'Source' : [1, 1, 2, 4, 4, 4, 5], \n",
    "                   'Target' : [2, 3, 3, 3, 5, 6, 6]})\n",
    "G = nx.from_pandas_edgelist(df, source='Source', target='Target')"
   ]
  },
  {
   "cell_type": "code",
   "execution_count": 6,
   "id": "924eeaeb",
   "metadata": {
    "slideshow": {
     "slide_type": "subslide"
    }
   },
   "outputs": [
    {
     "data": {
      "image/png": "[encoded data removed]",
      "text/plain": [
       "<Figure size 432x288 with 1 Axes>"
      ]
     },
     "metadata": {},
     "output_type": "display_data"
    }
   ],
   "source": [
    "nx.draw(G)"
   ]
  },
  {
   "cell_type": "code",
   "execution_count": 7,
   "id": "379bb003",
   "metadata": {
    "slideshow": {
     "slide_type": "subslide"
    }
   },
   "outputs": [
    {
     "data": {
      "text/plain": [
       "array([[ 2, -1, -1,  0,  0,  0],\n",
       "       [-1,  2, -1,  0,  0,  0],\n",
       "       [-1, -1,  3, -1,  0,  0],\n",
       "       [ 0,  0, -1,  3, -1, -1],\n",
       "       [ 0,  0,  0, -1,  2, -1],\n",
       "       [ 0,  0,  0, -1, -1,  2]])"
      ]
     },
     "execution_count": 7,
     "metadata": {},
     "output_type": "execute_result"
    }
   ],
   "source": [
    "import numpy as np \n",
    "\n",
    "adjacency_matrix = nx.linalg.adjacency_matrix(G).toarray()\n",
    "degree_matrix = np.diag([degree[1] for degree in list(G.degree)])\n",
    "laplacian_matrix = degree_matrix - adjacency_matrix\n",
    "laplacian_matrix"
   ]
  },
  {
   "cell_type": "code",
   "execution_count": 22,
   "id": "f6afe052",
   "metadata": {
    "slideshow": {
     "slide_type": "subslide"
    }
   },
   "outputs": [],
   "source": [
    "# calculate the first two eigenvectors from the laplacian\n",
    "k = 2\n",
    "eigenvalues, eigenvectors = np.linalg.eig(laplacian_matrix)\n",
    "\n",
    "# extract first and second eigenvalues/eigenvectors\n",
    "first_eigenvalues = np.argpartition(eigenvalues, k)[0:k]\n",
    "U = eigenvectors[:, first_eigenvalues]\n",
    "lambdas = eigenvalues[first_eigenvalues]"
   ]
  },
  {
   "cell_type": "code",
   "execution_count": 27,
   "id": "051a8173",
   "metadata": {
    "slideshow": {
     "slide_type": "subslide"
    }
   },
   "outputs": [
    {
     "data": {
      "text/plain": [
       "array([1, 1, 1, 0, 0, 0], dtype=int32)"
      ]
     },
     "execution_count": 27,
     "metadata": {},
     "output_type": "execute_result"
    }
   ],
   "source": [
    "# apply k-means\n",
    "from sklearn.cluster import KMeans\n",
    "\n",
    "kmeans = KMeans(n_clusters=k, random_state = 0)\n",
    "kmeans.fit(U)\n",
    "\n",
    "kmeans.labels_"
   ]
  },
  {
   "cell_type": "code",
   "execution_count": 28,
   "id": "7613b660",
   "metadata": {
    "slideshow": {
     "slide_type": "subslide"
    }
   },
   "outputs": [
    {
     "data": {
      "text/plain": [
       "<AxesSubplot:>"
      ]
     },
     "execution_count": 28,
     "metadata": {},
     "output_type": "execute_result"
    },
    {
     "data": {
      "image/png": "[encoded data removed]",
      "text/plain": [
       "<Figure size 432x288 with 1 Axes>"
      ]
     },
     "metadata": {
      "needs_background": "light"
     },
     "output_type": "display_data"
    }
   ],
   "source": [
    "import seaborn as sns\n",
    "\n",
    "# each color correspond to a group and each point correspond\n",
    "# to a node in the graph\n",
    "sns.scatterplot(x = U[:,0], y = U[:,1], hue = kmeans.labels_)"
   ]
  },
  {
   "cell_type": "markdown",
   "id": "2d402b8c",
   "metadata": {
    "slideshow": {
     "slide_type": "subslide"
    }
   },
   "source": [
    "### Approximating RatioCut for arbitrary $k$\n",
    "\n",
    "\n"
   ]
  },
  {
   "cell_type": "markdown",
   "id": "da62a915",
   "metadata": {
    "slideshow": {
     "slide_type": "subslide"
    }
   },
   "source": [
    "When $k$ is an arbitrary value, we need to modify the indicator vectors. Given a partition of $V$: $A_1, \\dots, \n",
    "A_k$, define the indicator vectors $h_i$ as \n",
    "$$\n",
    "h_{i,j} = \\left\\{\\begin{aligned}\n",
    "1/\\sqrt{\\bar{A_j}} & \\quad \\text{if } v_i \\in A_j \\\\\n",
    "0 & \\quad \\text{otherwise}\n",
    "\\end{aligned}\n",
    "\\right.\n",
    "$$\n",
    "\n",
    "Then define $H \\in \\mathbb{R}^{n \\times k}$ as the matrix containing the $k$ indicator vectors as column.\n",
    "Note also that $H'H = I$."
   ]
  },
  {
   "cell_type": "markdown",
   "id": "1f75e717",
   "metadata": {
    "slideshow": {
     "slide_type": "subslide"
    }
   },
   "source": [
    "By some calculation, we get\n",
    "\n",
    "$$h_i'Lh_i = \\frac{\\text{cut}(A_i, \\bar{A_i})}{|A_i|}$$\n",
    "\n",
    "Therefore,\n",
    "\n",
    "$$\n",
    "\\text{RatioCut}(A_1, \\dots, A_k) = \\sum\\limits_{i=1}^{k} h_i'Lh_i =\\sum\\limits_{i=1}^{k} (H'LH)_{ii} = \n",
    "Tr(H'LH)\n",
    "$$"
   ]
  },
  {
   "cell_type": "markdown",
   "id": "31c90a74",
   "metadata": {
    "slideshow": {
     "slide_type": "subslide"
    }
   },
   "source": [
    "Thus, the problem can be defined as \n",
    "\n",
    "$$\n",
    "\\min_{A_1, \\dots, A_k} Tr(H'LH) \\quad \\text{subject to } H'H = I, \\text{with } H \\text{ defined as above}\n",
    "$$\n",
    "\n",
    "And relaxing the problem, we get\n",
    "$$\n",
    "\\min_{H \\in \\mathbb{R}^{n\\times k}} Tr(H'LH) \\quad \\text{subject to } H'H = I\n",
    "$$\n",
    "\n"
   ]
  },
  {
   "cell_type": "code",
   "execution_count": 20,
   "id": "8eedd06b",
   "metadata": {
    "slideshow": {
     "slide_type": "subslide"
    }
   },
   "outputs": [],
   "source": [
    "G_1 = G\n",
    "\n",
    "# add three new nodes that are connected \n",
    "for i in range(8,11):\n",
    "    G_1.add_node(i)\n",
    "\n",
    "G_1.add_edges_from(((8, 9), (9,10), (10, 8)))"
   ]
  },
  {
   "cell_type": "code",
   "execution_count": 21,
   "id": "beb9e3eb",
   "metadata": {
    "slideshow": {
     "slide_type": "subslide"
    }
   },
   "outputs": [
    {
     "data": {
      "image/png": "[encoded data removed]",
      "text/plain": [
       "<Figure size 432x288 with 1 Axes>"
      ]
     },
     "metadata": {},
     "output_type": "display_data"
    }
   ],
   "source": [
    "nx.draw(G_1)"
   ]
  },
  {
   "cell_type": "code",
   "execution_count": 37,
   "id": "61eeb119",
   "metadata": {
    "slideshow": {
     "slide_type": "subslide"
    }
   },
   "outputs": [],
   "source": [
    "k = 3\n",
    "\n",
    "laplacian_matrix = nx.linalg.laplacian_matrix(G_1).toarray()\n",
    "eigenvalues, eigenvectors = np.linalg.eig(laplacian_matrix)\n",
    "\n",
    "# extract first and second eigenvalues/eigenvectors\n",
    "first_eigenvalues = np.argpartition(eigenvalues, k)[0:k]\n",
    "U = eigenvectors[:, first_eigenvalues]\n",
    "lambdas = eigenvalues[first_eigenvalues]"
   ]
  },
  {
   "cell_type": "code",
   "execution_count": 40,
   "id": "522e2960",
   "metadata": {
    "slideshow": {
     "slide_type": "subslide"
    }
   },
   "outputs": [
    {
     "data": {
      "text/plain": [
       "array([2, 2, 2, 0, 0, 0, 1, 1, 1], dtype=int32)"
      ]
     },
     "execution_count": 40,
     "metadata": {},
     "output_type": "execute_result"
    }
   ],
   "source": [
    "kmeans = KMeans(n_clusters=k, random_state = 0)\n",
    "kmeans.fit(U)\n",
    "\n",
    "kmeans.labels_"
   ]
  },
  {
   "cell_type": "code",
   "execution_count": 43,
   "id": "851bcfe5",
   "metadata": {
    "slideshow": {
     "slide_type": "subslide"
    }
   },
   "outputs": [
    {
     "data": {
      "text/plain": [
       "<AxesSubplot:>"
      ]
     },
     "execution_count": 43,
     "metadata": {},
     "output_type": "execute_result"
    },
    {
     "data": {
      "image/png": "[encoded data removed]",
      "text/plain": [
       "<Figure size 432x288 with 1 Axes>"
      ]
     },
     "metadata": {
      "needs_background": "light"
     },
     "output_type": "display_data"
    }
   ],
   "source": [
    "sns.scatterplot(x = U[:,1], y = U[:,2], hue = kmeans.labels_)"
   ]
  },
  {
   "cell_type": "code",
   "execution_count": 55,
   "id": "22f91bff",
   "metadata": {
    "slideshow": {
     "slide_type": "subslide"
    }
   },
   "outputs": [
    {
     "data": {
      "application/vnd.plotly.v1+json": {
       "config": {
        "plotlyServerURL": "https://plot.ly"
       },
       "data": [
        {
         "hovertemplate": "groups=2<br>0=%{x}<br>1=%{y}<br>2=%{z}<extra></extra>",
         "legendgroup": "2",
         "marker": {
          "color": "#636efa",
          "symbol": "circle"
         },
         "mode": "markers",
         "name": "2",
         "scene": "scene",
         "showlegend": true,
         "type": "scatter3d",
         "x": [
          0,
          0,
          0
         ],
         "y": [
          -0.4082482904638632,
          -0.4082482904638635,
          -0.4082482904638631
         ],
         "z": [
          0.4647051316572957,
          0.4647051316572955,
          0.260956473808852
         ]
        },
        {
         "hovertemplate": "groups=0<br>0=%{x}<br>1=%{y}<br>2=%{z}<extra></extra>",
         "legendgroup": "0",
         "marker": {
          "color": "#EF553B",
          "symbol": "circle"
         },
         "mode": "markers",
         "name": "0",
         "scene": "scene",
         "showlegend": true,
         "type": "scatter3d",
         "x": [
          0,
          0,
          0
         ],
         "y": [
          -0.4082482904638628,
          -0.40824829046386274,
          -0.40824829046386274
         ],
         "z": [
          -0.2609564738088527,
          -0.4647051316572965,
          -0.4647051316572965
         ]
        },
        {
         "hovertemplate": "groups=1<br>0=%{x}<br>1=%{y}<br>2=%{z}<extra></extra>",
         "legendgroup": "1",
         "marker": {
          "color": "#00cc96",
          "symbol": "circle"
         },
         "mode": "markers",
         "name": "1",
         "scene": "scene",
         "showlegend": true,
         "type": "scatter3d",
         "x": [
          -0.5773502691896257,
          -0.5773502691896256,
          -0.5773502691896258
         ],
         "y": [
          0,
          0,
          0
         ],
         "z": [
          0,
          0,
          0
         ]
        }
       ],
       "layout": {
        "legend": {
         "title": {
          "text": "groups"
         },
         "tracegroupgap": 0
        },
        "margin": {
         "t": 60
        },
        "scene": {
         "domain": {
          "x": [
           0,
           1
          ],
          "y": [
           0,
           1
          ]
         },
         "xaxis": {
          "title": {
           "text": "0"
          }
         },
         "yaxis": {
          "title": {
           "text": "1"
          }
         },
         "zaxis": {
          "title": {
           "text": "2"
          }
         }
        },
        "template": {
         "data": {
          "bar": [
           {
            "error_x": {
             "color": "#2a3f5f"
            },
            "error_y": {
             "color": "#2a3f5f"
            },
            "marker": {
             "line": {
              "color": "#E5ECF6",
              "width": 0.5
             }
            },
            "type": "bar"
           }
          ],
          "barpolar": [
           {
            "marker": {
             "line": {
              "color": "#E5ECF6",
              "width": 0.5
             }
            },
            "type": "barpolar"
           }
          ],
          "carpet": [
           {
            "aaxis": {
             "endlinecolor": "#2a3f5f",
             "gridcolor": "white",
             "linecolor": "white",
             "minorgridcolor": "white",
             "startlinecolor": "#2a3f5f"
            },
            "baxis": {
             "endlinecolor": "#2a3f5f",
             "gridcolor": "white",
             "linecolor": "white",
             "minorgridcolor": "white",
             "startlinecolor": "#2a3f5f"
            },
            "type": "carpet"
           }
          ],
          "choropleth": [
           {
            "colorbar": {
             "outlinewidth": 0,
             "ticks": ""
            },
            "type": "choropleth"
           }
          ],
          "contour": [
           {
            "colorbar": {
             "outlinewidth": 0,
             "ticks": ""
            },
            "colorscale": [
             [
              0,
              "#0d0887"
             ],
             [
              0.1111111111111111,
              "#46039f"
             ],
             [
              0.2222222222222222,
              "#7201a8"
             ],
             [
              0.3333333333333333,
              "#9c179e"
             ],
             [
              0.4444444444444444,
              "#bd3786"
             ],
             [
              0.5555555555555556,
              "#d8576b"
             ],
             [
              0.6666666666666666,
              "#ed7953"
             ],
             [
              0.7777777777777778,
              "#fb9f3a"
             ],
             [
              0.8888888888888888,
              "#fdca26"
             ],
             [
              1,
              "#f0f921"
             ]
            ],
            "type": "contour"
           }
          ],
          "contourcarpet": [
           {
            "colorbar": {
             "outlinewidth": 0,
             "ticks": ""
            },
            "type": "contourcarpet"
           }
          ],
          "heatmap": [
           {
            "colorbar": {
             "outlinewidth": 0,
             "ticks": ""
            },
            "colorscale": [
             [
              0,
              "#0d0887"
             ],
             [
              0.1111111111111111,
              "#46039f"
             ],
             [
              0.2222222222222222,
              "#7201a8"
             ],
             [
              0.3333333333333333,
              "#9c179e"
             ],
             [
              0.4444444444444444,
              "#bd3786"
             ],
             [
              0.5555555555555556,
              "#d8576b"
             ],
             [
              0.6666666666666666,
              "#ed7953"
             ],
             [
              0.7777777777777778,
              "#fb9f3a"
             ],
             [
              0.8888888888888888,
              "#fdca26"
             ],
             [
              1,
              "#f0f921"
             ]
            ],
            "type": "heatmap"
           }
          ],
          "heatmapgl": [
           {
            "colorbar": {
             "outlinewidth": 0,
             "ticks": ""
            },
            "colorscale": [
             [
              0,
              "#0d0887"
             ],
             [
              0.1111111111111111,
              "#46039f"
             ],
             [
              0.2222222222222222,
              "#7201a8"
             ],
             [
              0.3333333333333333,
              "#9c179e"
             ],
             [
              0.4444444444444444,
              "#bd3786"
             ],
             [
              0.5555555555555556,
              "#d8576b"
             ],
             [
              0.6666666666666666,
              "#ed7953"
             ],
             [
              0.7777777777777778,
              "#fb9f3a"
             ],
             [
              0.8888888888888888,
              "#fdca26"
             ],
             [
              1,
              "#f0f921"
             ]
            ],
            "type": "heatmapgl"
           }
          ],
          "histogram": [
           {
            "marker": {
             "colorbar": {
              "outlinewidth": 0,
              "ticks": ""
             }
            },
            "type": "histogram"
           }
          ],
          "histogram2d": [
           {
            "colorbar": {
             "outlinewidth": 0,
             "ticks": ""
            },
            "colorscale": [
             [
              0,
              "#0d0887"
             ],
             [
              0.1111111111111111,
              "#46039f"
             ],
             [
              0.2222222222222222,
              "#7201a8"
             ],
             [
              0.3333333333333333,
              "#9c179e"
             ],
             [
              0.4444444444444444,
              "#bd3786"
             ],
             [
              0.5555555555555556,
              "#d8576b"
             ],
             [
              0.6666666666666666,
              "#ed7953"
             ],
             [
              0.7777777777777778,
              "#fb9f3a"
             ],
             [
              0.8888888888888888,
              "#fdca26"
             ],
             [
              1,
              "#f0f921"
             ]
            ],
            "type": "histogram2d"
           }
          ],
          "histogram2dcontour": [
           {
            "colorbar": {
             "outlinewidth": 0,
             "ticks": ""
            },
            "colorscale": [
             [
              0,
              "#0d0887"
             ],
             [
              0.1111111111111111,
              "#46039f"
             ],
             [
              0.2222222222222222,
              "#7201a8"
             ],
             [
              0.3333333333333333,
              "#9c179e"
             ],
             [
              0.4444444444444444,
              "#bd3786"
             ],
             [
              0.5555555555555556,
              "#d8576b"
             ],
             [
              0.6666666666666666,
              "#ed7953"
             ],
             [
              0.7777777777777778,
              "#fb9f3a"
             ],
             [
              0.8888888888888888,
              "#fdca26"
             ],
             [
              1,
              "#f0f921"
             ]
            ],
            "type": "histogram2dcontour"
           }
          ],
          "mesh3d": [
           {
            "colorbar": {
             "outlinewidth": 0,
             "ticks": ""
            },
            "type": "mesh3d"
           }
          ],
          "parcoords": [
           {
            "line": {
             "colorbar": {
              "outlinewidth": 0,
              "ticks": ""
             }
            },
            "type": "parcoords"
           }
          ],
          "pie": [
           {
            "automargin": true,
            "type": "pie"
           }
          ],
          "scatter": [
           {
            "marker": {
             "colorbar": {
              "outlinewidth": 0,
              "ticks": ""
             }
            },
            "type": "scatter"
           }
          ],
          "scatter3d": [
           {
            "line": {
             "colorbar": {
              "outlinewidth": 0,
              "ticks": ""
             }
            },
            "marker": {
             "colorbar": {
              "outlinewidth": 0,
              "ticks": ""
             }
            },
            "type": "scatter3d"
           }
          ],
          "scattercarpet": [
           {
            "marker": {
             "colorbar": {
              "outlinewidth": 0,
              "ticks": ""
             }
            },
            "type": "scattercarpet"
           }
          ],
          "scattergeo": [
           {
            "marker": {
             "colorbar": {
              "outlinewidth": 0,
              "ticks": ""
             }
            },
            "type": "scattergeo"
           }
          ],
          "scattergl": [
           {
            "marker": {
             "colorbar": {
              "outlinewidth": 0,
              "ticks": ""
             }
            },
            "type": "scattergl"
           }
          ],
          "scattermapbox": [
           {
            "marker": {
             "colorbar": {
              "outlinewidth": 0,
              "ticks": ""
             }
            },
            "type": "scattermapbox"
           }
          ],
          "scatterpolar": [
           {
            "marker": {
             "colorbar": {
              "outlinewidth": 0,
              "ticks": ""
             }
            },
            "type": "scatterpolar"
           }
          ],
          "scatterpolargl": [
           {
            "marker": {
             "colorbar": {
              "outlinewidth": 0,
              "ticks": ""
             }
            },
            "type": "scatterpolargl"
           }
          ],
          "scatterternary": [
           {
            "marker": {
             "colorbar": {
              "outlinewidth": 0,
              "ticks": ""
             }
            },
            "type": "scatterternary"
           }
          ],
          "surface": [
           {
            "colorbar": {
             "outlinewidth": 0,
             "ticks": ""
            },
            "colorscale": [
             [
              0,
              "#0d0887"
             ],
             [
              0.1111111111111111,
              "#46039f"
             ],
             [
              0.2222222222222222,
              "#7201a8"
             ],
             [
              0.3333333333333333,
              "#9c179e"
             ],
             [
              0.4444444444444444,
              "#bd3786"
             ],
             [
              0.5555555555555556,
              "#d8576b"
             ],
             [
              0.6666666666666666,
              "#ed7953"
             ],
             [
              0.7777777777777778,
              "#fb9f3a"
             ],
             [
              0.8888888888888888,
              "#fdca26"
             ],
             [
              1,
              "#f0f921"
             ]
            ],
            "type": "surface"
           }
          ],
          "table": [
           {
            "cells": {
             "fill": {
              "color": "#EBF0F8"
             },
             "line": {
              "color": "white"
             }
            },
            "header": {
             "fill": {
              "color": "#C8D4E3"
             },
             "line": {
              "color": "white"
             }
            },
            "type": "table"
           }
          ]
         },
         "layout": {
          "annotationdefaults": {
           "arrowcolor": "#2a3f5f",
           "arrowhead": 0,
           "arrowwidth": 1
          },
          "autotypenumbers": "strict",
          "coloraxis": {
           "colorbar": {
            "outlinewidth": 0,
            "ticks": ""
           }
          },
          "colorscale": {
           "diverging": [
            [
             0,
             "#8e0152"
            ],
            [
             0.1,
             "#c51b7d"
            ],
            [
             0.2,
             "#de77ae"
            ],
            [
             0.3,
             "#f1b6da"
            ],
            [
             0.4,
             "#fde0ef"
            ],
            [
             0.5,
             "#f7f7f7"
            ],
            [
             0.6,
             "#e6f5d0"
            ],
            [
             0.7,
             "#b8e186"
            ],
            [
             0.8,
             "#7fbc41"
            ],
            [
             0.9,
             "#4d9221"
            ],
            [
             1,
             "#276419"
            ]
           ],
           "sequential": [
            [
             0,
             "#0d0887"
            ],
            [
             0.1111111111111111,
             "#46039f"
            ],
            [
             0.2222222222222222,
             "#7201a8"
            ],
            [
             0.3333333333333333,
             "#9c179e"
            ],
            [
             0.4444444444444444,
             "#bd3786"
            ],
            [
             0.5555555555555556,
             "#d8576b"
            ],
            [
             0.6666666666666666,
             "#ed7953"
            ],
            [
             0.7777777777777778,
             "#fb9f3a"
            ],
            [
             0.8888888888888888,
             "#fdca26"
            ],
            [
             1,
             "#f0f921"
            ]
           ],
           "sequentialminus": [
            [
             0,
             "#0d0887"
            ],
            [
             0.1111111111111111,
             "#46039f"
            ],
            [
             0.2222222222222222,
             "#7201a8"
            ],
            [
             0.3333333333333333,
             "#9c179e"
            ],
            [
             0.4444444444444444,
             "#bd3786"
            ],
            [
             0.5555555555555556,
             "#d8576b"
            ],
            [
             0.6666666666666666,
             "#ed7953"
            ],
            [
             0.7777777777777778,
             "#fb9f3a"
            ],
            [
             0.8888888888888888,
             "#fdca26"
            ],
            [
             1,
             "#f0f921"
            ]
           ]
          },
          "colorway": [
           "#636efa",
           "#EF553B",
           "#00cc96",
           "#ab63fa",
           "#FFA15A",
           "#19d3f3",
           "#FF6692",
           "#B6E880",
           "#FF97FF",
           "#FECB52"
          ],
          "font": {
           "color": "#2a3f5f"
          },
          "geo": {
           "bgcolor": "white",
           "lakecolor": "white",
           "landcolor": "#E5ECF6",
           "showlakes": true,
           "showland": true,
           "subunitcolor": "white"
          },
          "hoverlabel": {
           "align": "left"
          },
          "hovermode": "closest",
          "mapbox": {
           "style": "light"
          },
          "paper_bgcolor": "white",
          "plot_bgcolor": "#E5ECF6",
          "polar": {
           "angularaxis": {
            "gridcolor": "white",
            "linecolor": "white",
            "ticks": ""
           },
           "bgcolor": "#E5ECF6",
           "radialaxis": {
            "gridcolor": "white",
            "linecolor": "white",
            "ticks": ""
           }
          },
          "scene": {
           "xaxis": {
            "backgroundcolor": "#E5ECF6",
            "gridcolor": "white",
            "gridwidth": 2,
            "linecolor": "white",
            "showbackground": true,
            "ticks": "",
            "zerolinecolor": "white"
           },
           "yaxis": {
            "backgroundcolor": "#E5ECF6",
            "gridcolor": "white",
            "gridwidth": 2,
            "linecolor": "white",
            "showbackground": true,
            "ticks": "",
            "zerolinecolor": "white"
           },
           "zaxis": {
            "backgroundcolor": "#E5ECF6",
            "gridcolor": "white",
            "gridwidth": 2,
            "linecolor": "white",
            "showbackground": true,
            "ticks": "",
            "zerolinecolor": "white"
           }
          },
          "shapedefaults": {
           "line": {
            "color": "#2a3f5f"
           }
          },
          "ternary": {
           "aaxis": {
            "gridcolor": "white",
            "linecolor": "white",
            "ticks": ""
           },
           "baxis": {
            "gridcolor": "white",
            "linecolor": "white",
            "ticks": ""
           },
           "bgcolor": "#E5ECF6",
           "caxis": {
            "gridcolor": "white",
            "linecolor": "white",
            "ticks": ""
           }
          },
          "title": {
           "x": 0.05
          },
          "xaxis": {
           "automargin": true,
           "gridcolor": "white",
           "linecolor": "white",
           "ticks": "",
           "title": {
            "standoff": 15
           },
           "zerolinecolor": "white",
           "zerolinewidth": 2
          },
          "yaxis": {
           "automargin": true,
           "gridcolor": "white",
           "linecolor": "white",
           "ticks": "",
           "title": {
            "standoff": 15
           },
           "zerolinecolor": "white",
           "zerolinewidth": 2
          }
         }
        }
       }
      },
      "text/html": [
       "<div>                            <div id=\"ffa36154-bb0f-4a31-b223-da06175fc9d9\" class=\"plotly-graph-div\" style=\"height:525px; width:100%;\"></div>            <script type=\"text/javascript\">                require([\"plotly\"], function(Plotly) {                    window.PLOTLYENV=window.PLOTLYENV || {};                                    if (document.getElementById(\"ffa36154-bb0f-4a31-b223-da06175fc9d9\")) {                    Plotly.newPlot(                        \"ffa36154-bb0f-4a31-b223-da06175fc9d9\",                        [{\"hovertemplate\": \"groups=2<br>0=%{x}<br>1=%{y}<br>2=%{z}<extra></extra>\", \"legendgroup\": \"2\", \"marker\": {\"color\": \"#636efa\", \"symbol\": \"circle\"}, \"mode\": \"markers\", \"name\": \"2\", \"scene\": \"scene\", \"showlegend\": true, \"type\": \"scatter3d\", \"x\": [0.0, 0.0, 0.0], \"y\": [-0.4082482904638632, -0.4082482904638635, -0.4082482904638631], \"z\": [0.4647051316572957, 0.4647051316572955, 0.260956473808852]}, {\"hovertemplate\": \"groups=0<br>0=%{x}<br>1=%{y}<br>2=%{z}<extra></extra>\", \"legendgroup\": \"0\", \"marker\": {\"color\": \"#EF553B\", \"symbol\": \"circle\"}, \"mode\": \"markers\", \"name\": \"0\", \"scene\": \"scene\", \"showlegend\": true, \"type\": \"scatter3d\", \"x\": [0.0, 0.0, 0.0], \"y\": [-0.4082482904638628, -0.40824829046386274, -0.40824829046386274], \"z\": [-0.2609564738088527, -0.4647051316572965, -0.4647051316572965]}, {\"hovertemplate\": \"groups=1<br>0=%{x}<br>1=%{y}<br>2=%{z}<extra></extra>\", \"legendgroup\": \"1\", \"marker\": {\"color\": \"#00cc96\", \"symbol\": \"circle\"}, \"mode\": \"markers\", \"name\": \"1\", \"scene\": \"scene\", \"showlegend\": true, \"type\": \"scatter3d\", \"x\": [-0.5773502691896257, -0.5773502691896256, -0.5773502691896258], \"y\": [0.0, 0.0, 0.0], \"z\": [0.0, 0.0, 0.0]}],                        {\"legend\": {\"title\": {\"text\": \"groups\"}, \"tracegroupgap\": 0}, \"margin\": {\"t\": 60}, \"scene\": {\"domain\": {\"x\": [0.0, 1.0], \"y\": [0.0, 1.0]}, \"xaxis\": {\"title\": {\"text\": \"0\"}}, \"yaxis\": {\"title\": {\"text\": \"1\"}}, \"zaxis\": {\"title\": {\"text\": \"2\"}}}, \"template\": {\"data\": {\"bar\": [{\"error_x\": {\"color\": \"#2a3f5f\"}, \"error_y\": {\"color\": \"#2a3f5f\"}, \"marker\": {\"line\": {\"color\": \"#E5ECF6\", \"width\": 0.5}}, \"type\": \"bar\"}], \"barpolar\": [{\"marker\": {\"line\": {\"color\": \"#E5ECF6\", \"width\": 0.5}}, \"type\": \"barpolar\"}], \"carpet\": [{\"aaxis\": {\"endlinecolor\": \"#2a3f5f\", \"gridcolor\": \"white\", \"linecolor\": \"white\", \"minorgridcolor\": \"white\", \"startlinecolor\": \"#2a3f5f\"}, \"baxis\": {\"endlinecolor\": \"#2a3f5f\", \"gridcolor\": \"white\", \"linecolor\": \"white\", \"minorgridcolor\": \"white\", \"startlinecolor\": \"#2a3f5f\"}, \"type\": \"carpet\"}], \"choropleth\": [{\"colorbar\": {\"outlinewidth\": 0, \"ticks\": \"\"}, \"type\": \"choropleth\"}], \"contour\": [{\"colorbar\": {\"outlinewidth\": 0, \"ticks\": \"\"}, \"colorscale\": [[0.0, \"#0d0887\"], [0.1111111111111111, \"#46039f\"], [0.2222222222222222, \"#7201a8\"], [0.3333333333333333, \"#9c179e\"], [0.4444444444444444, \"#bd3786\"], [0.5555555555555556, \"#d8576b\"], [0.6666666666666666, \"#ed7953\"], [0.7777777777777778, \"#fb9f3a\"], [0.8888888888888888, \"#fdca26\"], [1.0, \"#f0f921\"]], \"type\": \"contour\"}], \"contourcarpet\": [{\"colorbar\": {\"outlinewidth\": 0, \"ticks\": \"\"}, \"type\": \"contourcarpet\"}], \"heatmap\": [{\"colorbar\": {\"outlinewidth\": 0, \"ticks\": \"\"}, \"colorscale\": [[0.0, \"#0d0887\"], [0.1111111111111111, \"#46039f\"], [0.2222222222222222, \"#7201a8\"], [0.3333333333333333, \"#9c179e\"], [0.4444444444444444, \"#bd3786\"], [0.5555555555555556, \"#d8576b\"], [0.6666666666666666, \"#ed7953\"], [0.7777777777777778, \"#fb9f3a\"], [0.8888888888888888, \"#fdca26\"], [1.0, \"#f0f921\"]], \"type\": \"heatmap\"}], \"heatmapgl\": [{\"colorbar\": {\"outlinewidth\": 0, \"ticks\": \"\"}, \"colorscale\": [[0.0, \"#0d0887\"], [0.1111111111111111, \"#46039f\"], [0.2222222222222222, \"#7201a8\"], [0.3333333333333333, \"#9c179e\"], [0.4444444444444444, \"#bd3786\"], [0.5555555555555556, \"#d8576b\"], [0.6666666666666666, \"#ed7953\"], [0.7777777777777778, \"#fb9f3a\"], [0.8888888888888888, \"#fdca26\"], [1.0, \"#f0f921\"]], \"type\": \"heatmapgl\"}], \"histogram\": [{\"marker\": {\"colorbar\": {\"outlinewidth\": 0, \"ticks\": \"\"}}, \"type\": \"histogram\"}], \"histogram2d\": [{\"colorbar\": {\"outlinewidth\": 0, \"ticks\": \"\"}, \"colorscale\": [[0.0, \"#0d0887\"], [0.1111111111111111, \"#46039f\"], [0.2222222222222222, \"#7201a8\"], [0.3333333333333333, \"#9c179e\"], [0.4444444444444444, \"#bd3786\"], [0.5555555555555556, \"#d8576b\"], [0.6666666666666666, \"#ed7953\"], [0.7777777777777778, \"#fb9f3a\"], [0.8888888888888888, \"#fdca26\"], [1.0, \"#f0f921\"]], \"type\": \"histogram2d\"}], \"histogram2dcontour\": [{\"colorbar\": {\"outlinewidth\": 0, \"ticks\": \"\"}, \"colorscale\": [[0.0, \"#0d0887\"], [0.1111111111111111, \"#46039f\"], [0.2222222222222222, \"#7201a8\"], [0.3333333333333333, \"#9c179e\"], [0.4444444444444444, \"#bd3786\"], [0.5555555555555556, \"#d8576b\"], [0.6666666666666666, \"#ed7953\"], [0.7777777777777778, \"#fb9f3a\"], [0.8888888888888888, \"#fdca26\"], [1.0, \"#f0f921\"]], \"type\": \"histogram2dcontour\"}], \"mesh3d\": [{\"colorbar\": {\"outlinewidth\": 0, \"ticks\": \"\"}, \"type\": \"mesh3d\"}], \"parcoords\": [{\"line\": {\"colorbar\": {\"outlinewidth\": 0, \"ticks\": \"\"}}, \"type\": \"parcoords\"}], \"pie\": [{\"automargin\": true, \"type\": \"pie\"}], \"scatter\": [{\"marker\": {\"colorbar\": {\"outlinewidth\": 0, \"ticks\": \"\"}}, \"type\": \"scatter\"}], \"scatter3d\": [{\"line\": {\"colorbar\": {\"outlinewidth\": 0, \"ticks\": \"\"}}, \"marker\": {\"colorbar\": {\"outlinewidth\": 0, \"ticks\": \"\"}}, \"type\": \"scatter3d\"}], \"scattercarpet\": [{\"marker\": {\"colorbar\": {\"outlinewidth\": 0, \"ticks\": \"\"}}, \"type\": \"scattercarpet\"}], \"scattergeo\": [{\"marker\": {\"colorbar\": {\"outlinewidth\": 0, \"ticks\": \"\"}}, \"type\": \"scattergeo\"}], \"scattergl\": [{\"marker\": {\"colorbar\": {\"outlinewidth\": 0, \"ticks\": \"\"}}, \"type\": \"scattergl\"}], \"scattermapbox\": [{\"marker\": {\"colorbar\": {\"outlinewidth\": 0, \"ticks\": \"\"}}, \"type\": \"scattermapbox\"}], \"scatterpolar\": [{\"marker\": {\"colorbar\": {\"outlinewidth\": 0, \"ticks\": \"\"}}, \"type\": \"scatterpolar\"}], \"scatterpolargl\": [{\"marker\": {\"colorbar\": {\"outlinewidth\": 0, \"ticks\": \"\"}}, \"type\": \"scatterpolargl\"}], \"scatterternary\": [{\"marker\": {\"colorbar\": {\"outlinewidth\": 0, \"ticks\": \"\"}}, \"type\": \"scatterternary\"}], \"surface\": [{\"colorbar\": {\"outlinewidth\": 0, \"ticks\": \"\"}, \"colorscale\": [[0.0, \"#0d0887\"], [0.1111111111111111, \"#46039f\"], [0.2222222222222222, \"#7201a8\"], [0.3333333333333333, \"#9c179e\"], [0.4444444444444444, \"#bd3786\"], [0.5555555555555556, \"#d8576b\"], [0.6666666666666666, \"#ed7953\"], [0.7777777777777778, \"#fb9f3a\"], [0.8888888888888888, \"#fdca26\"], [1.0, \"#f0f921\"]], \"type\": \"surface\"}], \"table\": [{\"cells\": {\"fill\": {\"color\": \"#EBF0F8\"}, \"line\": {\"color\": \"white\"}}, \"header\": {\"fill\": {\"color\": \"#C8D4E3\"}, \"line\": {\"color\": \"white\"}}, \"type\": \"table\"}]}, \"layout\": {\"annotationdefaults\": {\"arrowcolor\": \"#2a3f5f\", \"arrowhead\": 0, \"arrowwidth\": 1}, \"autotypenumbers\": \"strict\", \"coloraxis\": {\"colorbar\": {\"outlinewidth\": 0, \"ticks\": \"\"}}, \"colorscale\": {\"diverging\": [[0, \"#8e0152\"], [0.1, \"#c51b7d\"], [0.2, \"#de77ae\"], [0.3, \"#f1b6da\"], [0.4, \"#fde0ef\"], [0.5, \"#f7f7f7\"], [0.6, \"#e6f5d0\"], [0.7, \"#b8e186\"], [0.8, \"#7fbc41\"], [0.9, \"#4d9221\"], [1, \"#276419\"]], \"sequential\": [[0.0, \"#0d0887\"], [0.1111111111111111, \"#46039f\"], [0.2222222222222222, \"#7201a8\"], [0.3333333333333333, \"#9c179e\"], [0.4444444444444444, \"#bd3786\"], [0.5555555555555556, \"#d8576b\"], [0.6666666666666666, \"#ed7953\"], [0.7777777777777778, \"#fb9f3a\"], [0.8888888888888888, \"#fdca26\"], [1.0, \"#f0f921\"]], \"sequentialminus\": [[0.0, \"#0d0887\"], [0.1111111111111111, \"#46039f\"], [0.2222222222222222, \"#7201a8\"], [0.3333333333333333, \"#9c179e\"], [0.4444444444444444, \"#bd3786\"], [0.5555555555555556, \"#d8576b\"], [0.6666666666666666, \"#ed7953\"], [0.7777777777777778, \"#fb9f3a\"], [0.8888888888888888, \"#fdca26\"], [1.0, \"#f0f921\"]]}, \"colorway\": [\"#636efa\", \"#EF553B\", \"#00cc96\", \"#ab63fa\", \"#FFA15A\", \"#19d3f3\", \"#FF6692\", \"#B6E880\", \"#FF97FF\", \"#FECB52\"], \"font\": {\"color\": \"#2a3f5f\"}, \"geo\": {\"bgcolor\": \"white\", \"lakecolor\": \"white\", \"landcolor\": \"#E5ECF6\", \"showlakes\": true, \"showland\": true, \"subunitcolor\": \"white\"}, \"hoverlabel\": {\"align\": \"left\"}, \"hovermode\": \"closest\", \"mapbox\": {\"style\": \"light\"}, \"paper_bgcolor\": \"white\", \"plot_bgcolor\": \"#E5ECF6\", \"polar\": {\"angularaxis\": {\"gridcolor\": \"white\", \"linecolor\": \"white\", \"ticks\": \"\"}, \"bgcolor\": \"#E5ECF6\", \"radialaxis\": {\"gridcolor\": \"white\", \"linecolor\": \"white\", \"ticks\": \"\"}}, \"scene\": {\"xaxis\": {\"backgroundcolor\": \"#E5ECF6\", \"gridcolor\": \"white\", \"gridwidth\": 2, \"linecolor\": \"white\", \"showbackground\": true, \"ticks\": \"\", \"zerolinecolor\": \"white\"}, \"yaxis\": {\"backgroundcolor\": \"#E5ECF6\", \"gridcolor\": \"white\", \"gridwidth\": 2, \"linecolor\": \"white\", \"showbackground\": true, \"ticks\": \"\", \"zerolinecolor\": \"white\"}, \"zaxis\": {\"backgroundcolor\": \"#E5ECF6\", \"gridcolor\": \"white\", \"gridwidth\": 2, \"linecolor\": \"white\", \"showbackground\": true, \"ticks\": \"\", \"zerolinecolor\": \"white\"}}, \"shapedefaults\": {\"line\": {\"color\": \"#2a3f5f\"}}, \"ternary\": {\"aaxis\": {\"gridcolor\": \"white\", \"linecolor\": \"white\", \"ticks\": \"\"}, \"baxis\": {\"gridcolor\": \"white\", \"linecolor\": \"white\", \"ticks\": \"\"}, \"bgcolor\": \"#E5ECF6\", \"caxis\": {\"gridcolor\": \"white\", \"linecolor\": \"white\", \"ticks\": \"\"}}, \"title\": {\"x\": 0.05}, \"xaxis\": {\"automargin\": true, \"gridcolor\": \"white\", \"linecolor\": \"white\", \"ticks\": \"\", \"title\": {\"standoff\": 15}, \"zerolinecolor\": \"white\", \"zerolinewidth\": 2}, \"yaxis\": {\"automargin\": true, \"gridcolor\": \"white\", \"linecolor\": \"white\", \"ticks\": \"\", \"title\": {\"standoff\": 15}, \"zerolinecolor\": \"white\", \"zerolinewidth\": 2}}}},                        {\"responsive\": true}                    ).then(function(){\n",
       "                            \n",
       "var gd = document.getElementById('ffa36154-bb0f-4a31-b223-da06175fc9d9');\n",
       "var x = new MutationObserver(function (mutations, observer) {{\n",
       "        var display = window.getComputedStyle(gd).display;\n",
       "        if (!display || display === 'none') {{\n",
       "            console.log([gd, 'removed!']);\n",
       "            Plotly.purge(gd);\n",
       "            observer.disconnect();\n",
       "        }}\n",
       "}});\n",
       "\n",
       "// Listen for the removal of the full notebook cells\n",
       "var notebookContainer = gd.closest('#notebook-container');\n",
       "if (notebookContainer) {{\n",
       "    x.observe(notebookContainer, {childList: true});\n",
       "}}\n",
       "\n",
       "// Listen for the clearing of the current output cell\n",
       "var outputEl = gd.closest('.output');\n",
       "if (outputEl) {{\n",
       "    x.observe(outputEl, {childList: true});\n",
       "}}\n",
       "\n",
       "                        })                };                });            </script>        </div>"
      ]
     },
     "metadata": {},
     "output_type": "display_data"
    }
   ],
   "source": [
    "import plotly.express as px\n",
    "\n",
    "df = pd.DataFrame(U)\n",
    "df['groups'] = [str(i) for i in kmeans.labels_]\n",
    "\n",
    "fig = px.scatter_3d(df, x=0, y=1, z=2,color='groups')\n",
    "fig.show()"
   ]
  },
  {
   "cell_type": "markdown",
   "id": "15d70df5",
   "metadata": {
    "slideshow": {
     "slide_type": "slide"
    }
   },
   "source": [
    "### References\n",
    "\n",
    "- https://scikit-learn.org/stable/modules/generated/sklearn.cluster.SpectralClustering.html\n",
    "- https://scikit-learn.org/stable/auto_examples/cluster/plot_cluster_comparison.html\n",
    "- Nicolas notes\n",
    "- A Tutorial on Spectral Clustering: https://doi.org/10.1007/s11222-007-9033-z"
   ]
  }
 ],
 "metadata": {
  "@webio": {
   "lastCommId": null,
   "lastKernelId": null
  },
  "celltoolbar": "Slideshow",
  "kernelspec": {
   "display_name": "Python 3",
   "language": "python",
   "name": "python3"
  },
  "language_info": {
   "codemirror_mode": {
    "name": "ipython",
    "version": 3
   },
   "file_extension": ".py",
   "mimetype": "text/x-python",
   "name": "python",
   "nbconvert_exporter": "python",
   "pygments_lexer": "ipython3",
   "version": "3.8.5"
  }
 },
 "nbformat": 4,
 "nbformat_minor": 5
}
